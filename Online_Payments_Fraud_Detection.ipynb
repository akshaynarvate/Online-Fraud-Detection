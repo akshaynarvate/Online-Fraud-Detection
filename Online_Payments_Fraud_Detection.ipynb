{
  "cells": [
    {
      "cell_type": "markdown",
      "metadata": {
        "id": "jbwYo5T71xme"
      },
      "source": [
        "# Online Payments Fraud Detection"
      ]
    },
    {
      "cell_type": "code",
      "execution_count": 3,
      "metadata": {
        "id": "1x0btIWI1pn2"
      },
      "outputs": [],
      "source": [
        "# Importing the Dependencies\n",
        "\n",
        "import pandas as pd\n",
        "import numpy as np"
      ]
    },
    {
      "cell_type": "code",
      "execution_count": 4,
      "metadata": {
        "colab": {
          "base_uri": "https://localhost:8080/"
        },
        "id": "ta2Qn-mN14zg",
        "outputId": "d47cd5c6-3aa6-4869-88b1-382ae3b3ce4b"
      },
      "outputs": [
        {
          "output_type": "stream",
          "name": "stdout",
          "text": [
            "   step      type    amount     nameOrig  oldbalanceOrg  newbalanceOrig  \\\n",
            "0     1   PAYMENT   9839.64  C1231006815       170136.0       160296.36   \n",
            "1     1   PAYMENT   1864.28  C1666544295        21249.0        19384.72   \n",
            "2     1  TRANSFER    181.00  C1305486145          181.0            0.00   \n",
            "3     1  CASH_OUT    181.00   C840083671          181.0            0.00   \n",
            "4     1   PAYMENT  11668.14  C2048537720        41554.0        29885.86   \n",
            "\n",
            "      nameDest  oldbalanceDest  newbalanceDest  isFraud  isFlaggedFraud  \n",
            "0  M1979787155             0.0             0.0      0.0             0.0  \n",
            "1  M2044282225             0.0             0.0      0.0             0.0  \n",
            "2   C553264065             0.0             0.0      1.0             0.0  \n",
            "3    C38997010         21182.0             0.0      1.0             0.0  \n",
            "4  M1230701703             0.0             0.0      0.0             0.0  \n"
          ]
        }
      ],
      "source": [
        "# Reading the csv file as DataFrame\n",
        "\n",
        "data = pd.read_csv(\"/content/Online Fraud Detection.csv\")\n",
        "print(data.head())"
      ]
    },
    {
      "cell_type": "code",
      "execution_count": 5,
      "metadata": {
        "colab": {
          "base_uri": "https://localhost:8080/"
        },
        "id": "EltMbBv54E6X",
        "outputId": "da6ab619-2c10-4d9b-a08c-d2145e98ad3e"
      },
      "outputs": [
        {
          "output_type": "stream",
          "name": "stdout",
          "text": [
            "step              0\n",
            "type              0\n",
            "amount            0\n",
            "nameOrig          0\n",
            "oldbalanceOrg     0\n",
            "newbalanceOrig    0\n",
            "nameDest          1\n",
            "oldbalanceDest    1\n",
            "newbalanceDest    1\n",
            "isFraud           1\n",
            "isFlaggedFraud    1\n",
            "dtype: int64\n"
          ]
        }
      ],
      "source": [
        "# Checking the null values\n",
        "\n",
        "print(data.isnull().sum())"
      ]
    },
    {
      "cell_type": "code",
      "execution_count": 6,
      "metadata": {
        "id": "sb51DF8V4s_i"
      },
      "outputs": [],
      "source": [
        "# Dropping the null values\n",
        "\n",
        "data.dropna(inplace=True)"
      ]
    },
    {
      "cell_type": "code",
      "execution_count": 7,
      "metadata": {
        "colab": {
          "base_uri": "https://localhost:8080/"
        },
        "id": "MY_m7QKZ5bvk",
        "outputId": "23095bbf-7f53-4044-b43a-fb6429d74873"
      },
      "outputs": [
        {
          "output_type": "stream",
          "name": "stdout",
          "text": [
            "PAYMENT     14480\n",
            "CASH_OUT     6471\n",
            "CASH_IN      5517\n",
            "TRANSFER     2859\n",
            "DEBIT         528\n",
            "Name: type, dtype: int64\n"
          ]
        }
      ],
      "source": [
        "# Exploring transaction type\n",
        "\n",
        "print(data.type.value_counts())"
      ]
    },
    {
      "cell_type": "code",
      "execution_count": 8,
      "metadata": {
        "colab": {
          "base_uri": "https://localhost:8080/"
        },
        "id": "GcPwJcJW5knS",
        "outputId": "3804a113-e272-48cb-d63b-f980cedd4e14"
      },
      "outputs": [
        {
          "output_type": "stream",
          "name": "stdout",
          "text": [
            "PAYMENT     14480\n",
            "CASH_OUT     6471\n",
            "CASH_IN      5517\n",
            "TRANSFER     2859\n",
            "DEBIT         528\n",
            "Name: type, dtype: int64\n"
          ]
        }
      ],
      "source": [
        "print(data.type.value_counts())"
      ]
    },
    {
      "cell_type": "code",
      "execution_count": 9,
      "metadata": {
        "colab": {
          "base_uri": "https://localhost:8080/"
        },
        "id": "QK_nSQvb55c5",
        "outputId": "99f99071-f889-4c98-ea42-93883941337d"
      },
      "outputs": [
        {
          "output_type": "stream",
          "name": "stdout",
          "text": [
            "isFraud           1.000000\n",
            "amount            0.078878\n",
            "oldbalanceOrg    -0.005706\n",
            "newbalanceDest   -0.008500\n",
            "oldbalanceDest   -0.013686\n",
            "newbalanceOrig   -0.017815\n",
            "step             -0.049139\n",
            "isFlaggedFraud         NaN\n",
            "Name: isFraud, dtype: float64\n"
          ]
        }
      ],
      "source": [
        "# Checking correlation\n",
        "\n",
        "correlation = data.corr()\n",
        "print(correlation[\"isFraud\"].sort_values(ascending=False))"
      ]
    },
    {
      "cell_type": "code",
      "source": [
        "# Transforming the categorical features into numerical\n",
        "# Transformin \"isFraud\" column into \"No Fraud\" into \"Fraud\"\n",
        "\n",
        "data[\"type\"] = data[\"type\"].map({\"CASH_OUT\": 1, \"PAYMENT\": 2,\n",
        "                                 \"CASH_IN\": 3, \"TRANSFER\": 4,\n",
        "                                 \"DEBIT\": 5})\n",
        "data[\"isFraud\"] = data[\"isFraud\"].map({0: \"No Fraud\", 1: \"Fraud\"})\n",
        "print(data.head())"
      ],
      "metadata": {
        "colab": {
          "base_uri": "https://localhost:8080/"
        },
        "id": "59QGR9y_wfB9",
        "outputId": "94018d69-a10b-4540-fa61-f17a54d01bd6"
      },
      "execution_count": 10,
      "outputs": [
        {
          "output_type": "stream",
          "name": "stdout",
          "text": [
            "   step  type    amount     nameOrig  oldbalanceOrg  newbalanceOrig  \\\n",
            "0     1     2   9839.64  C1231006815       170136.0       160296.36   \n",
            "1     1     2   1864.28  C1666544295        21249.0        19384.72   \n",
            "2     1     4    181.00  C1305486145          181.0            0.00   \n",
            "3     1     1    181.00   C840083671          181.0            0.00   \n",
            "4     1     2  11668.14  C2048537720        41554.0        29885.86   \n",
            "\n",
            "      nameDest  oldbalanceDest  newbalanceDest   isFraud  isFlaggedFraud  \n",
            "0  M1979787155             0.0             0.0  No Fraud             0.0  \n",
            "1  M2044282225             0.0             0.0  No Fraud             0.0  \n",
            "2   C553264065             0.0             0.0     Fraud             0.0  \n",
            "3    C38997010         21182.0             0.0     Fraud             0.0  \n",
            "4  M1230701703             0.0             0.0  No Fraud             0.0  \n"
          ]
        }
      ]
    },
    {
      "cell_type": "markdown",
      "source": [
        "## Online Payments Fraud Detection"
      ],
      "metadata": {
        "id": "R2EmXy9GxxmJ"
      }
    },
    {
      "cell_type": "code",
      "source": [
        "# Splitting the data into training set and test set\n",
        "\n",
        "from sklearn.model_selection import train_test_split\n",
        "X = np.array(data[[\"type\", \"amount\", \"oldbalanceOrg\", \"newbalanceOrig\"]])\n",
        "y = np.array(data[[\"isFraud\"]])"
      ],
      "metadata": {
        "id": "ta0g_nSExoCw"
      },
      "execution_count": 12,
      "outputs": []
    },
    {
      "cell_type": "code",
      "source": [
        "# Training a machine learning model\n",
        "\n",
        "from sklearn.tree import DecisionTreeClassifier\n",
        "Xtrain, Xtest, ytrain, ytest = train_test_split(X, y, test_size=0.10)\n",
        "model = DecisionTreeClassifier()\n",
        "model.fit(Xtrain, ytrain)\n",
        "print(model.score(Xtest, ytest))"
      ],
      "metadata": {
        "colab": {
          "base_uri": "https://localhost:8080/"
        },
        "id": "vt8mqdUtyd_l",
        "outputId": "1ae4514d-6c79-4290-b3c7-ce50f217ae73"
      },
      "execution_count": 15,
      "outputs": [
        {
          "output_type": "stream",
          "name": "stdout",
          "text": [
            "0.9966510381781648\n"
          ]
        }
      ]
    },
    {
      "cell_type": "code",
      "source": [
        "# Prediction\n",
        "# features = [type, amount, oldbalanceOrg, newbalanceOrig]\n",
        "features = np.array([[4, 9000.60, 9000.60, 0.0]])\n",
        "print(model.predict(features))"
      ],
      "metadata": {
        "colab": {
          "base_uri": "https://localhost:8080/"
        },
        "id": "YNmdK4yVzQA1",
        "outputId": "e9d3d5c3-4162-4f5f-ea47-4b5a82ae9675"
      },
      "execution_count": 19,
      "outputs": [
        {
          "output_type": "stream",
          "name": "stdout",
          "text": [
            "['No Fraud']\n"
          ]
        }
      ]
    },
    {
      "cell_type": "markdown",
      "source": [
        "## Pickle"
      ],
      "metadata": {
        "id": "m0zBVayv05CW"
      }
    },
    {
      "cell_type": "code",
      "source": [
        "# Importing the pickle \n",
        "\n",
        "import pickle"
      ],
      "metadata": {
        "id": "F-Ne5i2Rz5qE"
      },
      "execution_count": 20,
      "outputs": []
    },
    {
      "cell_type": "code",
      "source": [
        "# Creating a model_online pickle file\n",
        "\n",
        "pickle.dump(model, open(\"model_online.pkl\", \"wb\"))"
      ],
      "metadata": {
        "id": "gl1lcnG81cvf"
      },
      "execution_count": 21,
      "outputs": []
    },
    {
      "cell_type": "code",
      "source": [
        ""
      ],
      "metadata": {
        "id": "bi81TIHI14aJ"
      },
      "execution_count": null,
      "outputs": []
    }
  ],
  "metadata": {
    "colab": {
      "name": "Online Payments Fraud Detection.ipynb",
      "provenance": []
    },
    "kernelspec": {
      "display_name": "Python 3",
      "name": "python3"
    },
    "language_info": {
      "name": "python"
    }
  },
  "nbformat": 4,
  "nbformat_minor": 0
}